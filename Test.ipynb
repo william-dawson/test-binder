{
 "cells": [
  {
   "cell_type": "code",
   "execution_count": null,
   "id": "plain-porter",
   "metadata": {},
   "outputs": [],
   "source": [
    "from numpy import pi, cos, linspace\n",
    "x = linspace(0, 2 * pi, 100)\n",
    "y = [cos(i) for i in x]"
   ]
  },
  {
   "cell_type": "code",
   "execution_count": null,
   "id": "geological-preparation",
   "metadata": {},
   "outputs": [],
   "source": [
    "from matplotlib import pyplot as plt\n",
    "fig, axs = plt.subplots(1,1,figsize=(6,4))\n",
    "axs.plot(x, y)\n",
    "plt.show()"
   ]
  },
  {
   "cell_type": "code",
   "execution_count": 1,
   "id": "aging-captain",
   "metadata": {},
   "outputs": [],
   "source": [
    "from test import x"
   ]
  },
  {
   "cell_type": "code",
   "execution_count": 2,
   "id": "historical-simon",
   "metadata": {},
   "outputs": [
    {
     "name": "stdout",
     "output_type": "stream",
     "text": [
      "3\n"
     ]
    }
   ],
   "source": [
    "print(x)"
   ]
  },
  {
   "cell_type": "code",
   "execution_count": null,
   "id": "handmade-colleague",
   "metadata": {},
   "outputs": [],
   "source": []
  }
 ],
 "metadata": {
  "kernelspec": {
   "display_name": "Python 3",
   "language": "python",
   "name": "python3"
  },
  "language_info": {
   "codemirror_mode": {
    "name": "ipython",
    "version": 3
   },
   "file_extension": ".py",
   "mimetype": "text/x-python",
   "name": "python",
   "nbconvert_exporter": "python",
   "pygments_lexer": "ipython3",
   "version": "3.6.10"
  }
 },
 "nbformat": 4,
 "nbformat_minor": 5
}
