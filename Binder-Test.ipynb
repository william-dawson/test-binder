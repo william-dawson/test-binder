{
 "cells": [
  {
   "cell_type": "markdown",
   "id": "corporate-election",
   "metadata": {},
   "source": [
    "# Binder Test\n",
    "This notebook will demonstrate a use of mybinder with PyBigDFT. First, you will need to create a repository on [github](http://www.github.com). In this repository, you should put the following `requirements.txt` file."
   ]
  },
  {
   "cell_type": "code",
   "execution_count": null,
   "id": "powerful-genealogy",
   "metadata": {},
   "outputs": [],
   "source": [
    "! cat requirements.txt"
   ]
  },
  {
   "cell_type": "markdown",
   "id": "norwegian-remainder",
   "metadata": {},
   "source": [
    "You will next want to compile BigDFT on your local computer. Then, from `install/lib/python*/site-packages/` you should copy the `BigDFT` and `futile` directories."
   ]
  },
  {
   "cell_type": "code",
   "execution_count": null,
   "id": "acoustic-democrat",
   "metadata": {},
   "outputs": [],
   "source": [
    "! ls BigDFT"
   ]
  },
  {
   "cell_type": "code",
   "execution_count": null,
   "id": "challenging-filter",
   "metadata": {},
   "outputs": [],
   "source": [
    "! ls futile"
   ]
  },
  {
   "cell_type": "markdown",
   "id": "funny-jersey",
   "metadata": {},
   "source": [
    "## Workflow Test\n",
    "Now let's test this out with a calculation. First setup a simple system. Notice how we strategically cache results so that my binder doesn't have to do any heavy lifting."
   ]
  },
  {
   "cell_type": "code",
   "execution_count": null,
   "id": "blind-hungary",
   "metadata": {},
   "outputs": [],
   "source": [
    "from os import system\n",
    "from os.path import exists\n",
    "\n",
    "if not exists(\"1uao.pdb\"):\n",
    "    system(\"pdbfixer --pdbid=1uao --add-atoms=all --output=1uao.pdb --water-box 2 2 2\")"
   ]
  },
  {
   "cell_type": "code",
   "execution_count": null,
   "id": "diagnostic-hamburg",
   "metadata": {},
   "outputs": [],
   "source": [
    "if not exists(\"minimized.pdb\"):\n",
    "    from simtk.openmm.app import *\n",
    "    from simtk.openmm import *\n",
    "    from simtk.unit import *\n",
    "    from sys import stdout\n",
    "\n",
    "    pdb = PDBFile('1uao.pdb')\n",
    "    forcefield = ForceField('amber99sb.xml', 'tip3p.xml')\n",
    "    system = forcefield.createSystem(pdb.topology, nonbondedMethod=PME,\n",
    "                                     nonbondedCutoff=1*nanometer, constraints=HBonds)\n",
    "    integrator = LangevinIntegrator(300*kelvin, 1/picosecond, 0.002*picoseconds)\n",
    "    simulation = Simulation(pdb.topology, system, integrator)\n",
    "    simulation.context.setPositions(pdb.positions)\n",
    "    simulation.minimizeEnergy()\n",
    "    state = simulation.context.getState(getPositions=True)\n",
    "    with open(\"minimized.pdb\", \"w\") as ofile:\n",
    "        PDBFile.writeFile(pdb.topology, state.getPositions(), ofile)"
   ]
  },
  {
   "cell_type": "code",
   "execution_count": null,
   "id": "latest-truth",
   "metadata": {},
   "outputs": [],
   "source": [
    "from BigDFT.IO import read_pdb\n",
    "from BigDFT.UnitCells import UnitCell\n",
    "with open(\"minimized.pdb\") as ifile:\n",
    "    sys = read_pdb(ifile)\n",
    "# Note that pdbfixer generates a system which is periodic by default\n",
    "sys.cell = UnitCell()"
   ]
  },
  {
   "cell_type": "code",
   "execution_count": null,
   "id": "raising-liberia",
   "metadata": {},
   "outputs": [],
   "source": [
    "from BigDFT.Visualization import InlineVisualizer\n",
    "viz = InlineVisualizer(400, 300)\n",
    "viz.display_system(sys)"
   ]
  },
  {
   "cell_type": "markdown",
   "id": "southern-invalid",
   "metadata": {},
   "source": [
    "Run the calculation."
   ]
  },
  {
   "cell_type": "code",
   "execution_count": null,
   "id": "satisfied-porter",
   "metadata": {},
   "outputs": [],
   "source": [
    "from BigDFT.Inputfiles import Inputfile\n",
    "inp = Inputfile()\n",
    "inp.set_xc(\"PBE\")\n",
    "inp.set_hgrid(0.4)\n",
    "inp.set_psp_file(filename=\"psppar.Na\", element=\"Na\")\n",
    "inp[\"import\"] = \"linear\""
   ]
  },
  {
   "cell_type": "code",
   "execution_count": null,
   "id": "active-longitude",
   "metadata": {},
   "outputs": [],
   "source": [
    "from BigDFT.Calculators import SystemCalculator\n",
    "code = SystemCalculator()"
   ]
  },
  {
   "cell_type": "code",
   "execution_count": null,
   "id": "aboriginal-chinese",
   "metadata": {},
   "outputs": [],
   "source": [
    "log = code.run(posinp=sys.get_posinp(), input=inp, name=\"test\", run_dir=\"work\")"
   ]
  },
  {
   "cell_type": "markdown",
   "id": "known-firmware",
   "metadata": {},
   "source": [
    "Do some basic post processing."
   ]
  },
  {
   "cell_type": "code",
   "execution_count": null,
   "id": "abstract-ultimate",
   "metadata": {},
   "outputs": [],
   "source": [
    "print(log.energy)"
   ]
  },
  {
   "cell_type": "code",
   "execution_count": null,
   "id": "moved-establishment",
   "metadata": {},
   "outputs": [],
   "source": [
    "from BigDFT.PostProcessing import BigDFTool\n",
    "tool = BigDFTool()"
   ]
  },
  {
   "cell_type": "code",
   "execution_count": null,
   "id": "israeli-release",
   "metadata": {},
   "outputs": [],
   "source": [
    "sys.set_logfile_info(log)"
   ]
  },
  {
   "cell_type": "code",
   "execution_count": null,
   "id": "refined-jungle",
   "metadata": {},
   "outputs": [],
   "source": [
    "from BigDFT.Systems import plot_fragment_information\n",
    "from matplotlib import pyplot as plt\n",
    "from numpy.linalg import norm\n",
    "\n",
    "fig, axs = plt.subplots(1,1, figsize=(6,3))\n",
    "data = {x: norm(y.q0) for x, y in sys.items()}\n",
    "plot_fragment_information(axs, data)\n",
    "axs.set_title(\"Fragment Dipole Strength\")"
   ]
  },
  {
   "cell_type": "code",
   "execution_count": null,
   "id": "divine-space",
   "metadata": {},
   "outputs": [],
   "source": []
  }
 ],
 "metadata": {
  "kernelspec": {
   "display_name": "Python 3",
   "language": "python",
   "name": "python3"
  },
  "language_info": {
   "codemirror_mode": {
    "name": "ipython",
    "version": 3
   },
   "file_extension": ".py",
   "mimetype": "text/x-python",
   "name": "python",
   "nbconvert_exporter": "python",
   "pygments_lexer": "ipython3",
   "version": "3.6.10"
  }
 },
 "nbformat": 4,
 "nbformat_minor": 5
}
